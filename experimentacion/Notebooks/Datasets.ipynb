{
 "cells": [
  {
   "cell_type": "code",
   "execution_count": 1,
   "metadata": {},
   "outputs": [],
   "source": [
    "import numpy as np\n",
    "import pandas as pd"
   ]
  },
  {
   "cell_type": "code",
   "execution_count": 2,
   "metadata": {},
   "outputs": [],
   "source": [
    "FNAME = '../../datos/imdb_tokenized.csv'"
   ]
  },
  {
   "cell_type": "code",
   "execution_count": 6,
   "metadata": {},
   "outputs": [],
   "source": [
    "from collections import defaultdict\n",
    "def parse_dataset(fname):\n",
    "    data = defaultdict(list)\n",
    "    with open(fname, 'r') as f:\n",
    "        for line in f:\n",
    "            entry_id, dataset, response, tokens = line.split(',', 3)\n",
    "            data['id'].append(entry_id)\n",
    "            data['dataset'].append(dataset)\n",
    "            data['response'].append(response)\n",
    "            data['tokens'].append(tokens)\n",
    "    return pd.DataFrame.from_dict(data)\n",
    "\n",
    "def dataset_to_csv(dataset, fname):\n",
    "    with open(fname, 'w') as f:\n",
    "        for row in dataset.iterrows():\n",
    "            line = ','.join([row[1]['id'], row[1]['dataset'], row[1]['response'], row[1]['tokens']])\n",
    "            f.write(line)\n"
   ]
  },
  {
   "cell_type": "code",
   "execution_count": 7,
   "metadata": {},
   "outputs": [
    {
     "data": {
      "text/html": [
       "<div>\n",
       "<style scoped>\n",
       "    .dataframe tbody tr th:only-of-type {\n",
       "        vertical-align: middle;\n",
       "    }\n",
       "\n",
       "    .dataframe tbody tr th {\n",
       "        vertical-align: top;\n",
       "    }\n",
       "\n",
       "    .dataframe thead th {\n",
       "        text-align: right;\n",
       "    }\n",
       "</style>\n",
       "<table border=\"1\" class=\"dataframe\">\n",
       "  <thead>\n",
       "    <tr style=\"text-align: right;\">\n",
       "      <th></th>\n",
       "      <th>id</th>\n",
       "      <th>dataset</th>\n",
       "      <th>response</th>\n",
       "      <th>tokens</th>\n",
       "    </tr>\n",
       "  </thead>\n",
       "  <tbody>\n",
       "    <tr>\n",
       "      <th>0</th>\n",
       "      <td>0</td>\n",
       "      <td>test</td>\n",
       "      <td>neg</td>\n",
       "      <td>277,174,578,7118,48,3325,49,3,17,16,225,1113,7...</td>\n",
       "    </tr>\n",
       "    <tr>\n",
       "      <th>1</th>\n",
       "      <td>1</td>\n",
       "      <td>test</td>\n",
       "      <td>neg</td>\n",
       "      <td>11,6,36,454,4,137,1,2146,4,221,109,26,1,167,38...</td>\n",
       "    </tr>\n",
       "    <tr>\n",
       "      <th>2</th>\n",
       "      <td>2</td>\n",
       "      <td>test</td>\n",
       "      <td>neg</td>\n",
       "      <td>93,4,33,10,722,147,5212,15645,37,35019,490,47,...</td>\n",
       "    </tr>\n",
       "    <tr>\n",
       "      <th>3</th>\n",
       "      <td>3</td>\n",
       "      <td>test</td>\n",
       "      <td>neg</td>\n",
       "      <td>25,60,1,6161,80,872,691,286,413,2,252,2423,232...</td>\n",
       "    </tr>\n",
       "    <tr>\n",
       "      <th>4</th>\n",
       "      <td>4</td>\n",
       "      <td>test</td>\n",
       "      <td>neg</td>\n",
       "      <td>9603,1271,104,6,25,3,3706,656,16,97,67,26,635,...</td>\n",
       "    </tr>\n",
       "  </tbody>\n",
       "</table>\n",
       "</div>"
      ],
      "text/plain": [
       "  id dataset response                                             tokens\n",
       "0  0    test      neg  277,174,578,7118,48,3325,49,3,17,16,225,1113,7...\n",
       "1  1    test      neg  11,6,36,454,4,137,1,2146,4,221,109,26,1,167,38...\n",
       "2  2    test      neg  93,4,33,10,722,147,5212,15645,37,35019,490,47,...\n",
       "3  3    test      neg  25,60,1,6161,80,872,691,286,413,2,252,2423,232...\n",
       "4  4    test      neg  9603,1271,104,6,25,3,3706,656,16,97,67,26,635,..."
      ]
     },
     "execution_count": 7,
     "metadata": {},
     "output_type": "execute_result"
    }
   ],
   "source": [
    "df = parse_dataset(FNAME)\n",
    "df.head()"
   ]
  },
  {
   "cell_type": "code",
   "execution_count": 14,
   "metadata": {},
   "outputs": [
    {
     "data": {
      "text/html": [
       "<div>\n",
       "<style scoped>\n",
       "    .dataframe tbody tr th:only-of-type {\n",
       "        vertical-align: middle;\n",
       "    }\n",
       "\n",
       "    .dataframe tbody tr th {\n",
       "        vertical-align: top;\n",
       "    }\n",
       "\n",
       "    .dataframe thead th {\n",
       "        text-align: right;\n",
       "    }\n",
       "</style>\n",
       "<table border=\"1\" class=\"dataframe\">\n",
       "  <thead>\n",
       "    <tr style=\"text-align: right;\">\n",
       "      <th></th>\n",
       "      <th>id</th>\n",
       "      <th>dataset</th>\n",
       "      <th>response</th>\n",
       "      <th>tokens</th>\n",
       "    </tr>\n",
       "  </thead>\n",
       "  <tbody>\n",
       "    <tr>\n",
       "      <th>25000</th>\n",
       "      <td>25000</td>\n",
       "      <td>train</td>\n",
       "      <td>neg</td>\n",
       "      <td>71,4,3,127,37,48,7464,1352,16,3,5214,511,49,15...</td>\n",
       "    </tr>\n",
       "    <tr>\n",
       "      <th>25001</th>\n",
       "      <td>25001</td>\n",
       "      <td>train</td>\n",
       "      <td>neg</td>\n",
       "      <td>3785,23670,511,14,3,3347,169,8894,12062,1481,6...</td>\n",
       "    </tr>\n",
       "    <tr>\n",
       "      <th>25002</th>\n",
       "      <td>25002</td>\n",
       "      <td>train</td>\n",
       "      <td>neg</td>\n",
       "      <td>11,19,3187,143,10,80,23,265,59,3811,21,32,93,3...</td>\n",
       "    </tr>\n",
       "    <tr>\n",
       "      <th>25003</th>\n",
       "      <td>25003</td>\n",
       "      <td>train</td>\n",
       "      <td>neg</td>\n",
       "      <td>726,286,10,122,11,6,425,5,30,36,24,529,22,19,1...</td>\n",
       "    </tr>\n",
       "    <tr>\n",
       "      <th>25004</th>\n",
       "      <td>25004</td>\n",
       "      <td>train</td>\n",
       "      <td>neg</td>\n",
       "      <td>53,10,13,121,59,737,522,75,329,5,1,738,5,69,91...</td>\n",
       "    </tr>\n",
       "  </tbody>\n",
       "</table>\n",
       "</div>"
      ],
      "text/plain": [
       "          id dataset response  \\\n",
       "25000  25000   train      neg   \n",
       "25001  25001   train      neg   \n",
       "25002  25002   train      neg   \n",
       "25003  25003   train      neg   \n",
       "25004  25004   train      neg   \n",
       "\n",
       "                                                  tokens  \n",
       "25000  71,4,3,127,37,48,7464,1352,16,3,5214,511,49,15...  \n",
       "25001  3785,23670,511,14,3,3347,169,8894,12062,1481,6...  \n",
       "25002  11,19,3187,143,10,80,23,265,59,3811,21,32,93,3...  \n",
       "25003  726,286,10,122,11,6,425,5,30,36,24,529,22,19,1...  \n",
       "25004  53,10,13,121,59,737,522,75,329,5,1,738,5,69,91...  "
      ]
     },
     "execution_count": 14,
     "metadata": {},
     "output_type": "execute_result"
    }
   ],
   "source": [
    "train = df[df['dataset'] == 'train']\n",
    "test =  df[df['dataset'] == 'test']\n",
    "train.head()"
   ]
  },
  {
   "cell_type": "code",
   "execution_count": 15,
   "metadata": {},
   "outputs": [
    {
     "data": {
      "text/html": [
       "<div>\n",
       "<style scoped>\n",
       "    .dataframe tbody tr th:only-of-type {\n",
       "        vertical-align: middle;\n",
       "    }\n",
       "\n",
       "    .dataframe tbody tr th {\n",
       "        vertical-align: top;\n",
       "    }\n",
       "\n",
       "    .dataframe thead th {\n",
       "        text-align: right;\n",
       "    }\n",
       "</style>\n",
       "<table border=\"1\" class=\"dataframe\">\n",
       "  <thead>\n",
       "    <tr style=\"text-align: right;\">\n",
       "      <th></th>\n",
       "      <th>id</th>\n",
       "      <th>dataset</th>\n",
       "      <th>response</th>\n",
       "      <th>tokens</th>\n",
       "    </tr>\n",
       "  </thead>\n",
       "  <tbody>\n",
       "    <tr>\n",
       "      <th>37467</th>\n",
       "      <td>37467</td>\n",
       "      <td>train</td>\n",
       "      <td>neg</td>\n",
       "      <td>438,510,6,31,4,1,242,104,10,29,111,9,1,234,204...</td>\n",
       "    </tr>\n",
       "    <tr>\n",
       "      <th>25566</th>\n",
       "      <td>25566</td>\n",
       "      <td>train</td>\n",
       "      <td>neg</td>\n",
       "      <td>6754,7436,1189,4092,23939,1590,16,321,44245,9,...</td>\n",
       "    </tr>\n",
       "    <tr>\n",
       "      <th>25359</th>\n",
       "      <td>25359</td>\n",
       "      <td>train</td>\n",
       "      <td>neg</td>\n",
       "      <td>10,13,2237,5,69,3,2878,12,57,2143,4030,1294,15...</td>\n",
       "    </tr>\n",
       "    <tr>\n",
       "      <th>29677</th>\n",
       "      <td>29677</td>\n",
       "      <td>train</td>\n",
       "      <td>neg</td>\n",
       "      <td>11,6,201,3,761,1,675,242,17,124,1020,41,61,687...</td>\n",
       "    </tr>\n",
       "    <tr>\n",
       "      <th>29713</th>\n",
       "      <td>29713</td>\n",
       "      <td>train</td>\n",
       "      <td>neg</td>\n",
       "      <td>10,195,12,1004,2271,22060,13,178,3,52,197,19,5...</td>\n",
       "    </tr>\n",
       "  </tbody>\n",
       "</table>\n",
       "</div>"
      ],
      "text/plain": [
       "          id dataset response  \\\n",
       "37467  37467   train      neg   \n",
       "25566  25566   train      neg   \n",
       "25359  25359   train      neg   \n",
       "29677  29677   train      neg   \n",
       "29713  29713   train      neg   \n",
       "\n",
       "                                                  tokens  \n",
       "37467  438,510,6,31,4,1,242,104,10,29,111,9,1,234,204...  \n",
       "25566  6754,7436,1189,4092,23939,1590,16,321,44245,9,...  \n",
       "25359  10,13,2237,5,69,3,2878,12,57,2143,4030,1294,15...  \n",
       "29677  11,6,201,3,761,1,675,242,17,124,1020,41,61,687...  \n",
       "29713  10,195,12,1004,2271,22060,13,178,3,52,197,19,5...  "
      ]
     },
     "execution_count": 15,
     "metadata": {},
     "output_type": "execute_result"
    }
   ],
   "source": [
    "# Tomamos una muestras de los datasets y generamos un nuevo dataset\n",
    "n_samples = 2500\n",
    "train_sample = train.sample(n_samples)\n",
    "test_sample = test.sample(n_samples)\n",
    "train_test_sample = pd.concat([train_sample, test_sample])\n",
    "train_test_sample.head()"
   ]
  },
  {
   "cell_type": "code",
   "execution_count": 10,
   "metadata": {},
   "outputs": [],
   "source": [
    "# Guardamos la muestra en un archivo\n",
    "OUT_NAME = '../data/train_test_sample.csv'\n",
    "dataset_to_csv(train_test_sample, OUT_NAME)"
   ]
  },
  {
   "cell_type": "code",
   "execution_count": 11,
   "metadata": {},
   "outputs": [
    {
     "name": "stdout",
     "output_type": "stream",
     "text": [
      "Datasets.ipynb                        Metodo de Potencias.ipynb\r\n",
      "Hyperparameter Tuning.ipynb           train_test_sample.csv\r\n",
      "HyperparameterTuning-StopWords.ipynb\r\n"
     ]
    }
   ],
   "source": [
    "ls"
   ]
  },
  {
   "cell_type": "code",
   "execution_count": 12,
   "metadata": {},
   "outputs": [],
   "source": [
    "# Tomamos una muestras solo del dataset de test y validemos con el dataset de train\n",
    "n_samples_train = 3000\n",
    "n_samples_val = 1000\n",
    "train_sample = train.sample(n_samples_train)\n",
    "val_sample = train.loc[~train.index.isin(train_sample.index)].sample(n_samples_val)\n",
    "train_test_sample = pd.concat([train_sample, test_sample])\n",
    "\n",
    "OUT_NAME = '../data/train_test_sample.csv'\n",
    "dataset_to_csv(train_test_sample, OUT_NAME)"
   ]
  },
  {
   "cell_type": "code",
   "execution_count": 13,
   "metadata": {},
   "outputs": [
    {
     "name": "stdout",
     "output_type": "stream",
     "text": [
      "Datasets.ipynb                        Metodo de Potencias.ipynb\r\n",
      "Hyperparameter Tuning.ipynb           train_test_sample.csv\r\n",
      "HyperparameterTuning-StopWords.ipynb\r\n"
     ]
    }
   ],
   "source": [
    "ls"
   ]
  },
  {
   "cell_type": "code",
   "execution_count": 17,
   "metadata": {},
   "outputs": [],
   "source": [
    "#Armo los distintos training sets\n",
    "test_sample = test.sample(2500)\n",
    "for i in range(1000,25001,1000):\n",
    "    train_sample = train.sample(i)\n",
    "    train_test_sample = pd.concat([train_sample, test_sample])\n",
    "    OUT_NAME = '../data/train_test_sample_' + str(i) + '.csv'\n",
    "    dataset_to_csv(train_test_sample, OUT_NAME)"
   ]
  },
  {
   "cell_type": "code",
   "execution_count": null,
   "metadata": {},
   "outputs": [],
   "source": []
  }
 ],
 "metadata": {
  "kernelspec": {
   "display_name": "Python 3",
   "language": "python",
   "name": "python3"
  },
  "language_info": {
   "codemirror_mode": {
    "name": "ipython",
    "version": 3
   },
   "file_extension": ".py",
   "mimetype": "text/x-python",
   "name": "python",
   "nbconvert_exporter": "python",
   "pygments_lexer": "ipython3",
   "version": "3.7.0"
  }
 },
 "nbformat": 4,
 "nbformat_minor": 2
}

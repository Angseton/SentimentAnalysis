{
 "cells": [
  {
   "cell_type": "code",
   "execution_count": 1,
   "metadata": {},
   "outputs": [],
   "source": [
    "import numpy as np\n",
    "import pandas as pd\n",
    "import subprocess\n",
    "import matplotlib.pyplot as plt\n",
    "import seaborn as sns"
   ]
  },
  {
   "cell_type": "code",
   "execution_count": 2,
   "metadata": {},
   "outputs": [],
   "source": [
    "def write_numpy_matrix_to_file(matrix, outfile):\n",
    "    \"\"\"Write a square matrix to a file.\"\"\"\n",
    "    N = matrix.shape[0]\n",
    "    with open(outfile, 'w') as f:\n",
    "        f.write(str(N))\n",
    "        f.write('\\n')\n",
    "        for i in range(N):\n",
    "            for j in range(N):\n",
    "                f.write(str(matrix[i, j]))\n",
    "                f.write(',')\n",
    "            f.write('\\n')\n",
    "        f.write('\\n')\n",
    "\n",
    "def parse_results(output, niters):\n",
    "    N, time, eigen_val, *eigen_vec = list(map(float, output.decode().split('\\n')[:-1]))\n",
    "    return {\n",
    "        'N': N,\n",
    "        'time': time,\n",
    "        'niters': niters,\n",
    "        'eigen_val': eigen_val,\n",
    "        'eigen_vec': np.array(eigen_vec),\n",
    "    }\n",
    "\n",
    "def run(exc_path, matrix_file, niters):\n",
    "    args = (exc_path, matrix_file, str(niters))\n",
    "    proc = subprocess.Popen(args, stdout=subprocess.PIPE)\n",
    "    proc.wait()\n",
    "    output = proc.stdout.read()\n",
    "    return parse_results(output, niters)"
   ]
  },
  {
   "cell_type": "code",
   "execution_count": 3,
   "metadata": {},
   "outputs": [
    {
     "name": "stdout",
     "output_type": "stream",
     "text": [
      "[0, 1, 2, 3, 4, 5, 6, 7, 8, 9, 10, 11, 12, 13, 14, 15, 16, 17, 18, 19, 20, 21, 22, 23, 24, 25, 26, 27, 28, 29]\n",
      "[1342.065437752, 2.538211220000001, 0.19327308399999765, 0.015818834000000948, 0.001350035000001526, 0.00025934399999982816, 0.00020487799999813205, 0.00021436900000537662, 0.00021436900000537662, 0.00021436900000537662, 0.00021436900000537662, 0.00021436900000537662, 0.00021436900000537662, 0.00021436900000537662, 0.00021436900000537662, 0.00021436900000537662, 0.00021436900000537662, 0.00021436900000537662, 0.00021436900000537662, 0.00021436900000537662, 0.00021436900000537662, 0.00021436900000537662, 0.00021436900000537662, 0.00021436900000537662, 0.00021436900000537662, 0.00021436900000537662, 0.00021436900000537662, 0.00021436900000537662, 0.00021436900000537662, 0.00021436900000537662]\n"
     ]
    },
    {
     "data": {
      "text/plain": [
       "[<matplotlib.lines.Line2D at 0x112992f60>]"
      ]
     },
     "execution_count": 3,
     "metadata": {},
     "output_type": "execute_result"
    },
    {
     "data": {
      "image/png": "[encoded data removed]",
      "text/plain": [
       "<Figure size 432x288 with 1 Axes>"
      ]
     },
     "metadata": {},
     "output_type": "display_data"
    }
   ],
   "source": [
    "# Una prueba simple\n",
    "OUT_FILE = '../data/matrix.csv'\n",
    "EXEC_PATH = '../executables/power_method'\n",
    "\n",
    "def generate_sample_of_size(size=(30, 30)):\n",
    "    m = np.random.randint(low=0, high=2, size=size)\n",
    "    # m = np.array([[0,1,2], [3, 4, 5], [6, 7, 8]])\n",
    "    # By multipling we are making it symetric\n",
    "    # return m\n",
    "    return m.T.dot(m)\n",
    "\n",
    "def error(M, out_dict):\n",
    "    Mv = M.dot(out_dict['eigen_vec'])\n",
    "    lv = out_dict['eigen_val'] * out_dict['eigen_vec']\n",
    "    return np.linalg.norm(np.abs(Mv - lv), ord=np.inf)\n",
    "\n",
    "n_iter_range = list(range(30))\n",
    "n_samples = 30\n",
    "size = (30, 30)\n",
    "results = []\n",
    "\n",
    "M = generate_sample_of_size(size)\n",
    "write_numpy_matrix_to_file(M, OUT_FILE)\n",
    "for n_iter in n_iter_range:\n",
    "    out = run(EXEC_PATH, OUT_FILE, n_iter)\n",
    "    err = error(M, out)\n",
    "    out['error'] = err\n",
    "    results.append(out)\n",
    "\n",
    "# Plot results\n",
    "x = [o['niters'] for o in results]\n",
    "err = [o['error'] for o in results]\n",
    "print(x)\n",
    "print(err)\n",
    "plt.plot(x, err)"
   ]
  },
  {
   "cell_type": "code",
   "execution_count": 4,
   "metadata": {},
   "outputs": [],
   "source": [
    "# Pareceria se que esta convergiendo bastante rapido"
   ]
  },
  {
   "cell_type": "code",
   "execution_count": 8,
   "metadata": {},
   "outputs": [
    {
     "name": "stdout",
     "output_type": "stream",
     "text": [
      "[0, 1, 2, 3, 4, 5, 6, 7, 8, 9, 10, 11, 12, 13, 14, 15, 16, 17, 18, 19, 20, 21, 22, 23, 24, 25, 26, 27, 28, 29, 30, 31, 32, 33, 34]\n",
      "[1.21005552e+05 1.00330886e+01 9.09207438e-02 3.06495720e-03\n",
      " 2.60035520e-03 2.59996740e-03 2.59996740e-03 2.59996740e-03\n",
      " 2.59996740e-03 2.59996740e-03 2.59996740e-03 2.59996740e-03\n",
      " 2.59996740e-03 2.59996740e-03 2.59996740e-03 2.59996740e-03\n",
      " 2.59996740e-03 2.59996740e-03 2.59996740e-03 2.59996740e-03\n",
      " 2.59996740e-03 2.59996740e-03 2.59996740e-03 2.59996740e-03\n",
      " 2.59996740e-03 2.59996740e-03 2.59996740e-03 2.59996740e-03\n",
      " 2.59996740e-03 2.59996740e-03 2.59996740e-03 2.59996740e-03\n",
      " 2.59996740e-03 2.59996740e-03 2.59996740e-03]\n"
     ]
    },
    {
     "data": {
      "image/png": "[encoded data removed]",
      "text/plain": [
       "<Figure size 432x288 with 1 Axes>"
      ]
     },
     "metadata": {},
     "output_type": "display_data"
    }
   ],
   "source": [
    "n_iter_range = list(range(35))\n",
    "n_samples = 100\n",
    "size = (300, 300)\n",
    "\n",
    "results = np.zeros(shape=(n_samples, len(n_iter_range)))\n",
    "for i in range(n_samples):\n",
    "    res_i = []\n",
    "    M = generate_sample_of_size(size)\n",
    "    write_numpy_matrix_to_file(M, OUT_FILE)\n",
    "    for n_iter in n_iter_range:\n",
    "        out = run(EXEC_PATH, OUT_FILE, n_iter)\n",
    "        err = error(M, out)\n",
    "        res_i.append(err)\n",
    "    results[i,:] = res_i\n",
    "\n",
    "# Plot results\n",
    "x = n_iter_range\n",
    "err = np.mean(results, axis=0)\n",
    "print(x)\n",
    "print(err)\n",
    "plt.plot(x, err)\n",
    "plt.yscale('log')"
   ]
  },
  {
   "cell_type": "code",
   "execution_count": null,
   "metadata": {},
   "outputs": [],
   "source": []
  },
  {
   "cell_type": "code",
   "execution_count": null,
   "metadata": {},
   "outputs": [],
   "source": []
  }
 ],
 "metadata": {
  "kernelspec": {
   "display_name": "Python 3",
   "language": "python",
   "name": "python3"
  },
  "language_info": {
   "codemirror_mode": {
    "name": "ipython",
    "version": 3
   },
   "file_extension": ".py",
   "mimetype": "text/x-python",
   "name": "python",
   "nbconvert_exporter": "python",
   "pygments_lexer": "ipython3",
   "version": "3.6.5"
  }
 },
 "nbformat": 4,
 "nbformat_minor": 2
}
